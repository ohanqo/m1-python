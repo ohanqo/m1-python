{
 "cells": [
  {
   "cell_type": "code",
   "execution_count": 11,
   "metadata": {},
   "outputs": [
    {
     "name": "stdout",
     "output_type": "stream",
     "text": [
      "Nom: Ilyass \n",
      "Prénom: Math \n",
      "Date de naissance: 01 / 07 / 1982\n",
      "Nom: Ilyass \n",
      "Prénom: Math \n",
      "Date de naissance: 01 / 07 / 1985\n",
      "Salaire: 7865.55\n",
      "Nom: Ilyass \n",
      "Prénom: Math \n",
      "Date de naissance: 01 / 07 / 1988\n",
      "Salaire: 7865.55\n",
      "Service: Ressource humaine\n"
     ]
    }
   ],
   "source": [
    "class DateNaissance:\n",
    "    def __init__(self, jour, mois, annee):\n",
    "        self.jour=jour\n",
    "        self.mois=mois\n",
    "        self.annee=annee\n",
    "         \n",
    "    def ToString(self):\n",
    "        return \"%02d / %02d / %d\" %(self.jour, self.mois, self.annee)\n",
    "    \n",
    "class Personne:\n",
    "    def __init__(self, nom, prenom, date_naissance):\n",
    "        self.nom=nom\n",
    "        self.prenom=prenom\n",
    "        self.date_naissance=date_naissance\n",
    "         \n",
    "    def afficher(self):\n",
    "        print(f'Nom: {self.nom} \\nPrénom: {self.prenom} \\nDate de naissance: {self.date_naissance.ToString()}')\n",
    "        \n",
    "class Employe(Personne):\n",
    "    def __init__(self, nom, prenom, date_naissance, salaire):\n",
    "        Personne.__init__(self, nom, prenom, date_naissance)\n",
    "        self.salaire=salaire\n",
    "        \n",
    "    def afficher(self):\n",
    "        Personne.afficher(self)\n",
    "        print(\"Salaire: %.02f\"%self.salaire)\n",
    "        \n",
    "class Chef(Employe):\n",
    "    def __init__(self, nom, prenom, date_naissance, salaire, service):\n",
    "        Employe.__init__(self, nom, prenom, date_naissance, salaire)\n",
    "        self.service=service\n",
    "    \n",
    "    def afficher(self):\n",
    "        Employe.afficher(self)\n",
    "        print(f'Service: {self.service}')\n",
    "        \n",
    "P=Personne(\"Ilyass\", \"Math\", DateNaissance(1,7,1982))\n",
    "P.afficher()\n",
    "\n",
    "E=Employe(\"Ilyass\", \"Math\", DateNaissance(1,7,1985), 7865.548)\n",
    "E.afficher()\n",
    "\n",
    "C=Chef(\"Ilyass\",\"Math\", DateNaissance(1,7,1988), 7865.548, \"Ressource humaine\")\n",
    "C.afficher()\n",
    " "
   ]
  },
  {
   "cell_type": "code",
   "execution_count": null,
   "metadata": {},
   "outputs": [],
   "source": []
  }
 ],
 "metadata": {
  "kernelspec": {
   "display_name": "Python 3",
   "language": "python",
   "name": "python3"
  },
  "language_info": {
   "codemirror_mode": {
    "name": "ipython",
    "version": 3
   },
   "file_extension": ".py",
   "mimetype": "text/x-python",
   "name": "python",
   "nbconvert_exporter": "python",
   "pygments_lexer": "ipython3",
   "version": "3.7.5"
  }
 },
 "nbformat": 4,
 "nbformat_minor": 4
}
