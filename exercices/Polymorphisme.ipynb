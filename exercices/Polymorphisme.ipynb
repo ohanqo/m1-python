{
 "cells": [
  {
   "cell_type": "code",
   "execution_count": 8,
   "metadata": {},
   "outputs": [
    {
     "name": "stdout",
     "output_type": "stream",
     "text": [
      "Lettre:\n",
      "Adresse destination: Lille \n",
      "Adresse d'expedition: Paris\n",
      "Poids: 80.00 grammes \n",
      "Mode: normal \n",
      "Format: A4 \n",
      "Prix du timbre: 0.20\n",
      "\n",
      "\n",
      "Colis:\n",
      "Adresse destination: Marrakeche \n",
      "Adresse d'expedition: Barcelone\n",
      "Poids: 3500.00 grammes \n",
      "Mode: express \n",
      "Volume: 2.25 litres \n",
      "Prix du timbre: 3.94\n"
     ]
    }
   ],
   "source": [
    "class Courrier:\n",
    "    def __init__(self, adresse_destination, adresse_expedition, poids, mode):\n",
    "        self.adresse_destination=adresse_destination\n",
    "        self.adresse_expedition=adresse_expedition\n",
    "        self.poids=poids\n",
    "        self.mode=mode\n",
    "         \n",
    "    def ToString(self):         \n",
    "        print(\"Adresse destination: %s \\nAdresse d'expedition: %s\\nPoids: %.2f grammes \\nMode: %s \"%(self.adresse_destination, self.adresse_expedition, self.poids, self.mode))\n",
    "        \n",
    "class Lettre(Courrier):\n",
    "    def __init__(self, adresse_destination, adresse_expedition, poids, mode, format):\n",
    "        Courrier.__init__(self, adresse_destination, adresse_expedition, poids, mode)\n",
    "        self.format=format\n",
    "         \n",
    "    def calculTimbre(self):\n",
    "        if self.format == \"A4\" : tarif_base=2.5\n",
    "        if self.format == \"A3\" : tarif_base=3.5\n",
    "         \n",
    "        montant = tarif_base*self.poids/1000\n",
    "         \n",
    "        if self.mode == \"express\" : montant*=2\n",
    "         \n",
    "        return montant\n",
    "         \n",
    "    def ToString(self):\n",
    "        print(\"Lettre:\")\n",
    "        Courrier.ToString(self)\n",
    "        print(\"Format: %s \\nPrix du timbre: %.2f\"%(self.format, self.calculTimbre()))\n",
    "\n",
    "class Colis(Courrier):\n",
    "    def __init__(self, adresse_destination, adresse_expedition, poids, mode, volume):\n",
    "        Courrier.__init__(self, adresse_destination, adresse_expedition, poids, mode)\n",
    "        self.volume=volume\n",
    "        \n",
    "    def calculTimbre(self):\n",
    "        montant=0.25*self.volume*self.poids/1000\n",
    "         \n",
    "        if self.mode==\"express\" : montant*=2\n",
    "         \n",
    "        return montant\n",
    "         \n",
    "    def ToString(self):\n",
    "        print(\"Colis:\")\n",
    "        Courrier.ToString(self)\n",
    "        print(\"Volume: %.2f litres \\nPrix du timbre: %.2f\"%(self.volume, self.calculTimbre()))\n",
    "\n",
    "L1=Lettre(\"Lille\", \"Paris\", 80, \"normal\", \"A4\")\n",
    "L1.ToString()\n",
    "\n",
    "print(\"\\n\")\n",
    "\n",
    "C1=Colis(\"Marrakeche\", \"Barcelone\", 3500, \"express\", 2.25)\n",
    "C1.ToString()\n"
   ]
  },
  {
   "cell_type": "code",
   "execution_count": null,
   "metadata": {},
   "outputs": [],
   "source": []
  }
 ],
 "metadata": {
  "kernelspec": {
   "display_name": "Python 3",
   "language": "python",
   "name": "python3"
  },
  "language_info": {
   "codemirror_mode": {
    "name": "ipython",
    "version": 3
   },
   "file_extension": ".py",
   "mimetype": "text/x-python",
   "name": "python",
   "nbconvert_exporter": "python",
   "pygments_lexer": "ipython3",
   "version": "3.7.5"
  }
 },
 "nbformat": 4,
 "nbformat_minor": 4
}
